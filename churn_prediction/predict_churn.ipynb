{
 "cells": [
  {
   "cell_type": "code",
   "execution_count": 220,
   "metadata": {
    "collapsed": false,
    "deletable": true,
    "editable": true
   },
   "outputs": [],
   "source": [
    "import pandas as pd\n",
    "import numpy as np\n",
    "import seaborn as sns\n",
    "from sklearn.metrics import f1_score, make_scorer\n",
    "import matplotlib.pyplot as plt\n",
    "from sklearn.decomposition import KernelPCA, PCA\n",
    "sns.set(context=\"paper\", font=\"monospace\")"
   ]
  },
  {
   "cell_type": "code",
   "execution_count": 4,
   "metadata": {
    "collapsed": true,
    "deletable": true,
    "editable": true
   },
   "outputs": [],
   "source": [
    "data = pd.read_csv('_847b6cd041836e8fa914243e83d898fb_orange_small_churn_data.txt')\n",
    "labels = pd.read_csv('_ce5e9e4280a8856218f1886f007de2a4_orange_small_churn_labels.txt', header=None)"
   ]
  },
  {
   "cell_type": "code",
   "execution_count": 7,
   "metadata": {
    "collapsed": false,
    "deletable": true,
    "editable": true
   },
   "outputs": [
    {
     "data": {
      "text/plain": [
       "((40000, 230), (40000, 1))"
      ]
     },
     "execution_count": 7,
     "metadata": {},
     "output_type": "execute_result"
    }
   ],
   "source": [
    "data.shape, labels.shape"
   ]
  },
  {
   "cell_type": "code",
   "execution_count": 95,
   "metadata": {
    "collapsed": false,
    "deletable": true,
    "editable": true
   },
   "outputs": [],
   "source": [
    "labels[0].value_counts()\n",
    "count = pd.DataFrame(data.isnull().sum(axis=0))\n",
    "\n",
    "more_38000 = count[count[0] < 38000].index\n",
    "less_38000 = count[count[0] >= 38000].index"
   ]
  },
  {
   "cell_type": "code",
   "execution_count": 132,
   "metadata": {
    "collapsed": false,
    "deletable": true,
    "editable": true
   },
   "outputs": [],
   "source": [
    "from sklearn.ensemble import RandomForestClassifier\n",
    "from sklearn.model_selection import cross_val_score\n",
    "from sklearn.preprocessing import LabelEncoder\n"
   ]
  },
  {
   "cell_type": "code",
   "execution_count": 136,
   "metadata": {
    "collapsed": false,
    "deletable": true,
    "editable": true
   },
   "outputs": [],
   "source": [
    "# encode categorical data\n",
    "data.iloc[:, 190:] = data.iloc[:, 190:].apply(lambda x: LabelEncoder().fit_transform(x.astype(str)))"
   ]
  },
  {
   "cell_type": "code",
   "execution_count": 176,
   "metadata": {
    "collapsed": false
   },
   "outputs": [],
   "source": [
    "# replace nans with mean in numerical data\n",
    "data_mean = data.copy()\n",
    "data_mean.iloc[:, :190] = data_mean.iloc[:, :190].fillna(data_mean.iloc[:, :190].mean())\n",
    "# delete completely null columns\n",
    "df = data_mean.isnull().all(axis=0)\n",
    "null_columns = df[df].index\n",
    "data_mean = data_mean.drop(null_columns, axis=1)"
   ]
  },
  {
   "cell_type": "code",
   "execution_count": 203,
   "metadata": {
    "collapsed": false,
    "deletable": true,
    "editable": true
   },
   "outputs": [
    {
     "data": {
      "text/plain": [
       "0.0013420570418144989"
      ]
     },
     "execution_count": 203,
     "metadata": {},
     "output_type": "execute_result"
    }
   ],
   "source": [
    "# train random forest only on 77 features\n",
    "cls = RandomForestClassifier(n_estimators=200)\n",
    "cross_val_score(cls, data_mean[more_38000].values, labels.values.reshape(40000,), scoring=make_scorer(f1_score)).mean()"
   ]
  },
  {
   "cell_type": "code",
   "execution_count": null,
   "metadata": {
    "collapsed": false,
    "deletable": true,
    "editable": true
   },
   "outputs": [],
   "source": []
  },
  {
   "cell_type": "code",
   "execution_count": 147,
   "metadata": {
    "collapsed": false,
    "deletable": true,
    "editable": true
   },
   "outputs": [],
   "source": [
    "from sklearn.svm import LinearSVC"
   ]
  },
  {
   "cell_type": "code",
   "execution_count": 184,
   "metadata": {
    "collapsed": false,
    "deletable": true,
    "editable": true
   },
   "outputs": [
    {
     "name": "stdout",
     "output_type": "stream",
     "text": [
      "[[ -1.09281751e-03  -2.34447238e-02  -5.79887955e-08   4.67241978e-04\n",
      "   -9.88464875e-09  -1.74836780e-06  -3.06244685e-03  -7.67846395e-05\n",
      "    1.87380716e-08  -5.73778708e-03   1.82009145e-03   3.73907655e-07\n",
      "   -1.05872138e-02  -4.07735862e-05   2.65801677e-06   4.52262848e-03\n",
      "    2.10227328e-02  -1.48775084e-04   2.72500512e-05   1.43511542e-04\n",
      "   -4.86446906e-05   7.36365907e-05  -2.09138409e-03  -5.21951682e-02\n",
      "    2.49989470e-05  -7.97746196e-02  -9.57618952e-04  -2.14971787e-07\n",
      "   -9.88036566e-03   0.00000000e+00  -4.63197862e-08  -1.09750628e-08\n",
      "   -1.25034771e-09   2.39939544e-03   9.21889685e-05  -7.01403075e-03\n",
      "   -1.82036757e-03  -8.62396033e-06   1.95118631e-03  -3.01590769e-03\n",
      "   -1.11669748e-01   2.05709587e-04   6.11942185e-08   3.63049051e-08\n",
      "    2.13495389e-04   1.68105596e-10  -4.98579663e-04  -2.40159632e-08\n",
      "   -5.04120255e-08   2.68813890e-03   3.87804275e-04  -6.05037022e-03\n",
      "   -4.62078303e-05   6.01387366e-07   5.86728163e-04  -1.19876285e-04\n",
      "   -3.33729302e-02   9.08667233e-05  -7.99850747e-09   1.89996787e-08\n",
      "   -3.23683944e-04  -4.43263006e-04  -5.73151129e-04  -4.75435030e-05\n",
      "   -7.04116706e-04   1.38038317e-09   4.76753777e-03  -1.15262481e-04\n",
      "    1.45244689e-08   6.61537398e-08  -4.72563391e-03   1.46870050e-04\n",
      "    5.53877372e-05  -7.10190758e-05   3.78560081e-08   1.39747321e-03\n",
      "   -4.56264118e-04  -3.25857797e-03  -1.63602877e-02  -3.64897746e-04\n",
      "   -1.11859534e-06  -1.92136969e-02  -1.97545296e-08   5.81407048e-09\n",
      "   -8.40875005e-03   3.68795009e-03   3.33670223e-07   3.48146916e-04\n",
      "   -4.88676467e-03  -1.44617146e-03  -3.14977404e-08   7.18204916e-04\n",
      "    3.19458467e-04   6.05529253e-04  -9.91419334e-08   1.75505057e-03\n",
      "   -1.27105473e-07  -3.21033589e-05  -1.15879287e-02   6.60619062e-08\n",
      "    1.38997354e-04   4.53002418e-08   3.25195589e-08  -3.64150131e-03\n",
      "   -5.30192380e-03   3.61463279e-09   4.15837872e-03  -5.04836425e-08\n",
      "    3.37664348e-04  -1.23946226e-04  -3.88926651e-02   1.08335004e-04\n",
      "   -6.81840267e-08  -1.35912801e-08   1.31674661e-03  -2.85985332e-03\n",
      "   -2.52321312e-04  -2.43636034e-03  -8.62285929e-03   1.29395782e-09\n",
      "    8.53613551e-04  -1.97430694e-09   3.98517245e-09  -4.00843129e-05\n",
      "   -2.08720154e-07  -6.89639321e-04   0.00000000e+00   9.75293678e-08\n",
      "   -2.19021124e-07  -1.60680202e-02   4.33308979e-03   3.96359956e-04\n",
      "    9.57998833e-05   1.89939405e-03  -4.67274611e-03   7.68706045e-05\n",
      "    5.90631716e-09   4.22017913e-08   8.41814749e-04  -3.02748177e-04\n",
      "   -2.50133530e-09  -1.06029312e-09  -1.72633865e-04  -2.48296154e-05\n",
      "   -1.24685156e-03   6.10290087e-03   1.89344539e-04   7.97832439e-05\n",
      "    1.81195294e-03   2.33104231e-08  -1.78917055e-09   1.07381146e-02\n",
      "    2.78538485e-08   1.60747529e-05  -5.51124768e-04   5.80559083e-03\n",
      "   -8.75080083e-09  -1.59816719e-03   3.17316456e-02   1.25476953e-03\n",
      "   -2.30862544e-03  -1.00705232e-08  -7.27012657e-04   5.43737022e-03\n",
      "    6.16758166e-09  -2.04593227e-03   8.99296955e-09  -3.15040780e-08\n",
      "    1.90164693e-03  -3.43883874e-04   6.59530334e-04   7.12741828e-04\n",
      "   -6.48171711e-04  -1.00308947e-06  -8.48131579e-02  -1.85189212e-05\n",
      "    5.51776386e-04  -1.96811846e-02   4.88301799e-04   1.42608528e-02\n",
      "   -1.19797481e-04   1.93394429e-06  -4.02978072e-06   1.60209357e-07\n",
      "   -1.64981551e-02  -2.06848198e-07  -6.35581427e-03  -6.59055400e-06\n",
      "    2.71427109e-02   1.57257688e-04   6.40919870e-03   1.59937446e-02\n",
      "    0.00000000e+00  -2.20766756e-02  -1.54855489e-02   1.95567435e-04\n",
      "    1.00825829e-01   1.01825218e-06  -3.27317055e-02  -8.49932002e-06\n",
      "    2.07221882e-06  -7.64524537e-03  -1.36522045e-03  -7.02381142e-07\n",
      "    7.26429744e-04   2.39781266e-06   1.55765267e-04   1.10923020e-01\n",
      "   -1.94054691e-04  -7.43252871e-04  -5.13285385e-04   5.46186491e-04\n",
      "    1.79634343e-02   0.00000000e+00]]\n"
     ]
    }
   ],
   "source": [
    "# train linear model on all features\n",
    "cls = LinearSVC(penalty='l1', dual=False)\n",
    "cls.fit(data_mean.values, labels.values.reshape(40000,))\n",
    "print(cls.coef_)\n",
    "#cross_val_score(cls, data_mean.values, labels.values.reshape(40000,)).mean()"
   ]
  },
  {
   "cell_type": "code",
   "execution_count": null,
   "metadata": {
    "collapsed": false
   },
   "outputs": [],
   "source": []
  },
  {
   "cell_type": "code",
   "execution_count": 189,
   "metadata": {
    "collapsed": false
   },
   "outputs": [],
   "source": [
    "linear_features = np.where(cls.coef_[0] > 10 ** -4)"
   ]
  },
  {
   "cell_type": "code",
   "execution_count": 205,
   "metadata": {
    "collapsed": false
   },
   "outputs": [
    {
     "data": {
      "text/plain": [
       "0.012315582281452589"
      ]
     },
     "execution_count": 205,
     "metadata": {},
     "output_type": "execute_result"
    }
   ],
   "source": [
    "# linear model on linear features\n",
    "cls = LinearSVC()\n",
    "cross_val_score(cls, data_mean.values[:, linear_features[0]], labels.values.reshape(40000,), scoring=make_scorer(f1_score)).mean()"
   ]
  },
  {
   "cell_type": "code",
   "execution_count": 226,
   "metadata": {
    "collapsed": false
   },
   "outputs": [
    {
     "name": "stdout",
     "output_type": "stream",
     "text": [
      "(40000, 100) shape after PCA\n",
      "0.00267537150276\n"
     ]
    }
   ],
   "source": [
    "# replace nans with some big value\n",
    "data_negative = data.copy()\n",
    "data_negative.iloc[:, :190] = data_negative.iloc[:, :190].fillna(-10**10)\n",
    "\n",
    "# delete completely null columns\n",
    "df = data_negative.isnull().all(axis=0)\n",
    "null_columns = df[df].index\n",
    "data_negative = data_negative.drop(null_columns, axis=1)\n",
    "\n",
    "pca = PCA(100)\n",
    "data_negative = pca.fit_transform(data_negative)\n",
    "print(data_negative.shape, 'shape after PCA')\n",
    "\n",
    "# train random forest only on PCA features\n",
    "cls = RandomForestClassifier(n_estimators=100)\n",
    "print(cross_val_score(cls, data_negative, labels.values.reshape(40000,), scoring=make_scorer(f1_score)).mean())"
   ]
  },
  {
   "cell_type": "code",
   "execution_count": 218,
   "metadata": {
    "collapsed": false
   },
   "outputs": [],
   "source": [
    "# Next steps may be using ensemble of different classifiers\n",
    "# using xboost"
   ]
  },
  {
   "cell_type": "code",
   "execution_count": null,
   "metadata": {
    "collapsed": true
   },
   "outputs": [],
   "source": []
  }
 ],
 "metadata": {
  "kernelspec": {
   "display_name": "Python 3",
   "language": "python",
   "name": "python3"
  },
  "language_info": {
   "codemirror_mode": {
    "name": "ipython",
    "version": 3
   },
   "file_extension": ".py",
   "mimetype": "text/x-python",
   "name": "python",
   "nbconvert_exporter": "python",
   "pygments_lexer": "ipython3",
   "version": "3.5.2"
  }
 },
 "nbformat": 4,
 "nbformat_minor": 2
}
